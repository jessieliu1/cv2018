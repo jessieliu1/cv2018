{
 "cells": [
  {
   "cell_type": "code",
   "execution_count": 9,
   "metadata": {
    "collapsed": true
   },
   "outputs": [],
   "source": [
    "import numpy as np"
   ]
  },
  {
   "cell_type": "code",
   "execution_count": 10,
   "metadata": {
    "collapsed": true
   },
   "outputs": [],
   "source": [
    "def ind2sub(s, IND):\n",
    "    row_size = s.shape[0]\n",
    "    \n",
    "    I = []\n",
    "    J = []\n",
    "    \n",
    "    for i in IND:\n",
    "        i = i-1\n",
    "        \n",
    "        J.append( (i//row_size) )\n",
    "        I.append( (i%row_size) )\n",
    "    \n",
    "    I = np.array(I)\n",
    "    J = np.array(J)\n",
    "    return I,J \n",
    "        "
   ]
  },
  {
   "cell_type": "code",
   "execution_count": 11,
   "metadata": {
    "collapsed": false
   },
   "outputs": [
    {
     "name": "stdout",
     "output_type": "stream",
     "text": [
      "(array([2, 0, 1, 2]), array([0, 1, 1, 1]))\n"
     ]
    }
   ],
   "source": [
    "print( ind2sub( np.zeros( (3,3) ), [3,4,5,6] )) "
   ]
  },
  {
   "cell_type": "code",
   "execution_count": 12,
   "metadata": {
    "collapsed": true
   },
   "outputs": [],
   "source": [
    "def nearest_n(R, X, Q_size, S, h, w, c, Pp,Vp,Pstride,mp,L, gap):\n",
    "\n",
    "    S = np.reshape(S, (h,w,3))\n",
    "    RX = np.matmul(X, np.where(R != 0, 1, 0))\n",
    "    \n",
    "    min_l2 = float('inf')\n",
    "\n",
    "    RXp = Vp.T * (np.subtract(RX,mp))\n",
    "    dif = np.tile(RXp, (1, Pp.shape[1])) - Pp\n",
    "    \n",
    "    \n",
    "    sqr = np.sum(np.square(dif), axis = 0)\n",
    "    \n",
    "    sqr = add_noise(sqr, 2) #Play with STD, also applying gaussian noise \n",
    "    \n",
    "    idx = np.argmin(sqr, axis = 0) #find minimum index in each column\n",
    "    \n",
    "    \n",
    "    temp = np.zeros( (math.floor( (h-Q_size)/Pstride), math.floor( (w-Q_size)/Pstride)) )\n",
    "\n",
    "    ls,ks =ind2sub(temp,math.ceil(idx/4)) \n",
    "    ks=(np.subtract(ks-1))*Pstride+1\n",
    "    ls=(np.subtract(ls-1))*Pstride+1\n",
    "    \n",
    "    ang=np.fmod(np.add(idx+3),4)\n",
    "    \n",
    "    z = S[ks:(ks+Q_size),ls:(ls+Q_size),:]\n",
    "    \n",
    "    return ks,ls,z,ang\n",
    "    "
   ]
  },
  {
   "cell_type": "code",
   "execution_count": null,
   "metadata": {
    "collapsed": true
   },
   "outputs": [],
   "source": []
  }
 ],
 "metadata": {
  "kernelspec": {
   "display_name": "Python [Root]",
   "language": "python",
   "name": "Python [Root]"
  },
  "language_info": {
   "codemirror_mode": {
    "name": "ipython",
    "version": 3
   },
   "file_extension": ".py",
   "mimetype": "text/x-python",
   "name": "python",
   "nbconvert_exporter": "python",
   "pygments_lexer": "ipython3",
   "version": "3.5.2"
  }
 },
 "nbformat": 4,
 "nbformat_minor": 0
}
