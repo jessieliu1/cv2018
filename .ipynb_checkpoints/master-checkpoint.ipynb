{
 "cells": [
  {
   "cell_type": "markdown",
   "metadata": {},
   "source": [
    "Packages"
   ]
  },
  {
   "cell_type": "code",
   "execution_count": 1,
   "metadata": {
    "collapsed": false
   },
   "outputs": [],
   "source": [
    "import numpy as np\n",
    "%matplotlib inline\n",
    "import matplotlib.pyplot as plt\n",
    "from PIL import Image\n",
    "import cv2\n",
    "import math\n",
    "from skimage import color\n",
    "from skimage.transform import rescale, resize\n",
    "import scipy as scp\n",
    "from skimage.segmentation import active_contour\n",
    "from scipy import signal\n",
    "import matlab\n",
    "import matlab.engine\n",
    "from irls import irls\n",
    "from nearest_neighbor import nearest_n"
   ]
  },
  {
   "cell_type": "code",
   "execution_count": 2,
   "metadata": {
    "collapsed": true
   },
   "outputs": [],
   "source": [
    "#load in image\n",
    "I= np.asarray(Image.open('test.jpg').convert(\"L\"), dtype=float)\n",
    "pikachu = np.asarray(Image.open('pikachu.jpg').convert(\"RGB\"),dtype=int)\n",
    "van_gogh = np.asarray(Image.open('van_gogh.jpg').convert(\"RGB\"),dtype=int)"
   ]
  },
  {
   "cell_type": "code",
   "execution_count": 3,
   "metadata": {
    "collapsed": true
   },
   "outputs": [],
   "source": [
    "from skimage.exposure import cumulative_distribution\n",
    "#source: https://stackoverflow.com/questions/32655686/histogram-matching-of-two-images-in-python-2-x\n",
    "def cdf(im):\n",
    "    im = im.astype(int)\n",
    "    c, b = cumulative_distribution(im) \n",
    "    # pad the beginning and ending pixels and their CDF values\n",
    "    c = np.insert(c, 0, [0]*b[0])\n",
    "    c = np.append(c, [1]*(255-b[-1]))\n",
    "    return c\n",
    "\n",
    "def hist_matching(c, c_t, im):\n",
    "    im = im.astype(int)\n",
    "    pixels = np.arange(256)\n",
    "    # find closest pixel-matches corresponding to the CDF of the input image, given the value of the CDF H of   \n",
    "    # the template image at the corresponding pixels, s.t. c_t = H(pixels) <=> pixels = H-1(c_t)\n",
    "    new_pixels = np.interp(c, c_t, pixels) \n",
    "    im = (np.reshape(new_pixels[im.ravel()], im.shape)).astype('uint8')\n",
    "    return im"
   ]
  },
  {
   "cell_type": "code",
   "execution_count": 4,
   "metadata": {
    "collapsed": true
   },
   "outputs": [],
   "source": [
    "# add noise\n",
    "def add_noise(image,sigma=50):\n",
    "    row,col,ch= image.shape\n",
    "    mean = 0\n",
    "    gauss = np.random.normal(mean,sigma,(row,col,ch))\n",
    "    gauss = gauss.astype('uint8')\n",
    "    gauss = gauss.reshape(row,col,ch)\n",
    "    return (image + gauss).astype('uint8')"
   ]
  },
  {
   "cell_type": "code",
   "execution_count": 5,
   "metadata": {
    "collapsed": true
   },
   "outputs": [],
   "source": [
    "def imhistmatch(img1, img2):\n",
    "    red_output = hist_matching(cdf(img1[:,:,0]),cdf(img2[:,:,0]),img1[:,:,0])\n",
    "    green_output = hist_matching(cdf(img1[:,:,1]),cdf(img2[:,:,1]),img1[:,:,1])\n",
    "    blue_output = hist_matching(cdf(img1[:,:,2]),cdf(img2[:,:,2]),img1[:,:,2])\n",
    "    output = np.dstack((red_output,green_output,blue_output))\n",
    "    return output"
   ]
  },
  {
   "cell_type": "markdown",
   "metadata": {
    "collapsed": true,
    "scrolled": true
   },
   "source": [
    "output = imhistmatch(pikachu, van_gogh)\n",
    "plt.imshow(output)"
   ]
  },
  {
   "cell_type": "markdown",
   "metadata": {
    "collapsed": true,
    "scrolled": false
   },
   "source": [
    "noisy_output = add_noise(output)\n",
    "plt.imshow(noisy_output)"
   ]
  },
  {
   "cell_type": "code",
   "execution_count": 6,
   "metadata": {
    "collapsed": true
   },
   "outputs": [],
   "source": [
    "def gaussian2D(sigma=0.5):\n",
    "    \"\"\"\n",
    "    2D gaussian filter\n",
    "    \"\"\"\n",
    "\n",
    "    size = int(math.ceil(sigma * 6))\n",
    "    if (size % 2 == 0):\n",
    "        size += 1\n",
    "    r, c = np.ogrid[-size / 2: size / 2 + 1, -size / 2: size / 2 + 1]\n",
    "    g = np.exp(-(c * c + r * r) / (2. * sigma ** 2))\n",
    "    g = g / (g.sum() + 0.000001)\n",
    "    \n",
    "    return g"
   ]
  },
  {
   "cell_type": "code",
   "execution_count": 7,
   "metadata": {
    "collapsed": true
   },
   "outputs": [],
   "source": [
    "def laplace_of_gaussian(gray_img, sigma=1., kappa=0.75, pad=False):\n",
    "    \"\"\"\n",
    "    Applies Laplacian of Gaussians to grayscale image.\n",
    "\n",
    "    :param gray_img: image to apply LoG to\n",
    "    :param sigma:    Gauss sigma of Gaussian applied to image, <= 0. for none\n",
    "    :param kappa:    difference threshold as factor to mean of image values, <= 0 for none\n",
    "    :param pad:      flag to pad output w/ zero border, keeping input image size\n",
    "    \"\"\"\n",
    "    assert len(gray_img.shape) == 2\n",
    "    img = cv2.GaussianBlur(gray_img, (0, 0), sigma) if 0. < sigma else gray_img\n",
    "    img = cv2.Laplacian(img, cv2.CV_64F)\n",
    "    rows, cols = img.shape[:2]\n",
    "    # min/max of 3x3-neighbourhoods\n",
    "    min_map = np.minimum.reduce(list(img[r:rows-2+r, c:cols-2+c]\n",
    "                                     for r in range(3) for c in range(3)))\n",
    "    max_map = np.maximum.reduce(list(img[r:rows-2+r, c:cols-2+c]\n",
    "                                     for r in range(3) for c in range(3)))\n",
    "    # bool matrix for image value positiv (w/out border pixels)\n",
    "    pos_img = 0 < img[1:rows-1, 1:cols-1]\n",
    "    # bool matrix for min < 0 and 0 < image pixel\n",
    "    neg_min = min_map < 0\n",
    "    neg_min[1 - pos_img] = 0\n",
    "    # bool matrix for 0 < max and image pixel < 0\n",
    "    pos_max = 0 < max_map\n",
    "    pos_max[pos_img] = 0\n",
    "    # sign change at pixel?\n",
    "    zero_cross = neg_min + pos_max\n",
    "    # values: max - min, scaled to 0--255; set to 0 for no sign change\n",
    "    value_scale = 255. / max(1., img.max() - img.min())\n",
    "    values = value_scale * (max_map - min_map)\n",
    "    values[1 - zero_cross] = 0.\n",
    "    # optional thresholding\n",
    "    if 0. <= kappa:\n",
    "        thresh = float(np.absolute(img).mean()) * kappa\n",
    "        values[values < thresh] = 0.\n",
    "    log_img = values.astype(np.uint8)\n",
    "    if pad:\n",
    "        log_img = np.pad(log_img, pad_width=1, mode='constant', constant_values=0)\n",
    "    return log_img"
   ]
  },
  {
   "cell_type": "code",
   "execution_count": 8,
   "metadata": {
    "collapsed": true
   },
   "outputs": [],
   "source": [
    "def segment(img,scale):\n",
    "    #img = matlab.double(img.tolist())\n",
    "    #eng = matlab.engine.start_matlab()\n",
    "#     for x in range(400):\n",
    "#         for y in range(400):\n",
    "#             img[x][y] = matlab.double(img[x][y])\n",
    "#     E = eng.edge(img,'log',0.03,scale)\n",
    "#     tf_test = np.array(E._data.tolist())\n",
    "#     BW = tf_test.reshape(E.size).transpose()\n",
    "    E = laplace_of_gaussian(img,scale,0.03,True)\n",
    "    #return BW\n",
    "    gaussian_filter = gaussian2D(scale*7)\n",
    "    B = signal.convolve2d(0.5*E,gaussian_filter,mode='same')\n",
    "    mask = np.zeros_like(B)\n",
    "    B_mean = np.mean(B)\n",
    "    for i in range(0,B.shape[0]):\n",
    "        for j in range(0,B.shape[1]):\n",
    "            if B[i][j] > B_mean: \n",
    "                mask[i][j] = 1\n",
    "            else:\n",
    "                mask[i][j] = 0\n",
    "    img = matlab.double(img.tolist())\n",
    "    mask = matlab.double(mask.tolist())\n",
    "    eng = matlab.engine.start_matlab()\n",
    "    tf= eng.activecontour(img,mask)\n",
    "    tf_test = np.array(tf._data.tolist())\n",
    "    BW = tf_test.reshape(tf.size).transpose()\n",
    "    gaussian_filter = gaussian2D(scale)\n",
    "    W = signal.convolve2d((BW+10*E).astype(float),gaussian_filter,mode='same')\n",
    "    return W"
   ]
  },
  {
   "cell_type": "markdown",
   "metadata": {
    "collapsed": true
   },
   "source": [
    "pikachu = pikachu.astype('uint8')\n",
    "gray_van_gogh = color.rgb2gray(pikachu)\n",
    "output = segment(gray_van_gogh,1.05)\n",
    "plt.imshow(output, cmap='gray')"
   ]
  },
  {
   "cell_type": "code",
   "execution_count": 9,
   "metadata": {
    "collapsed": false
   },
   "outputs": [],
   "source": [
    "def style_transfer(content, style, hall0, mask, hallcoeff, Wcoeff, patch_sizes, scales, imsize):\n",
    "    output_shape = (imsize, imsize, 3)\n",
    "    #content image now has imhist applied to it, has the colors of style\n",
    "    C0 = imhistmatch(resize(content, output_shape),resize(style, output_shape))\n",
    "    #gaussian noise function is added to the re-colored content image\n",
    "    X = add_noise(C0)\n",
    "    h0 = imsize\n",
    "    w0 = imsize\n",
    "    gap_sizes = [28, 18, 9, 6]\n",
    "    \n",
    "    #iterate through resolutions, like a gaussian pyramid.\n",
    "    for L in scales:\n",
    "        content_scaled = rescale(content, 1/L)\n",
    "        style_scaled = rescale(style, 1/L)\n",
    "        mask = rescale(mask, 1/L)\n",
    "        C = np.copy(content_scaled)\n",
    "        S = np.copy(style_scaled)\n",
    "        h = math.ceil(h0/L)\n",
    "        w = math.ceil(w0/L)\n",
    "        X = rescale(X, 1/L)\n",
    "        hall = rescale(hall0,1/L)\n",
    "        \n",
    "        #iterate through patch sizes, like in the algorithm.\n",
    "        for N in patch_sizes:\n",
    "            \n",
    "            p_str = 4 #Weird constant see line 39 of source\n",
    "            \n",
    "            current_patch = N #Conversion from source; current_patch = Q_size\n",
    "            \n",
    "            S = np.reshape(S, (h,w,3))\n",
    "            \n",
    "            #Check this shape\n",
    "            P = np.zeros( (N*N*3, (math.floor((h-current_patch)/p_str)+1) * (math.floor((w-current_patch)/p_str)+1)*4))\n",
    "            \n",
    "            for k in range (0,(h-current_patch+1), p_str): #+2 bc python not inclusive but matlab is\n",
    "                for j in range (0, (w-current_patch+1), p_str):\n",
    "                    patch = S[k:(k+current_patch), j:(j+current_patch)]\n",
    "                    for i in range (0,4):\n",
    "                        temp = scp.misc.imrotate(patch,i*90,'bilinear')\n",
    "                        temp = temp.flatten()\n",
    "                        \n",
    "                        #Check this shape\n",
    "                        P[:, ( (math.ceil(k/p_str)-1)  * (math.floor((w-current_patch)/p_str)+1)*4 +     (math.ceil(j/p_str)-1)*4 + i + 1 )\n",
    "] = temp\n",
    "            \n",
    "            #S = np.copy(S)\n",
    "            \n",
    "            #Remove mean\n",
    "            #print((P.sum(axis= 0)))\n",
    "            #print(P.shape)\n",
    "            \n",
    "            mp = np.average(P)\n",
    "            P = np.subtract(P,mp)\n",
    "            \n",
    "#             #Compute PCA of P\n",
    "#             print(\"Doing eig\")\n",
    "#             V,D = np.linalg.eig(np.dot(P,P.T))\n",
    "            \n",
    "#             D = D.real\n",
    "#             print(\"eig gotten\")\n",
    "            \n",
    "#             #print(V)\n",
    "#             print(D.shape)\n",
    "            \n",
    "#             D= np.sort(np.diag(D))\n",
    "#             D = D[::-1]\n",
    "#             I = np.argsort(np.diag(D))\n",
    "            \n",
    "#             V = V[I]\n",
    "            \n",
    "#             print(\"Sum: \",np.sum(D))\n",
    "#             print(type(D[0]))\n",
    "#             #Find Top eig values\n",
    "#             eig_index = 0\n",
    "#             energy_cutoff = 0.95*np.sum(D)\n",
    "#             energy = 0\n",
    "#             for i in range(0,D.shape[0]):\n",
    "#                 print(D[i])\n",
    "#                 energy += D[i]\n",
    "                \n",
    "#                 if energy >= energy_cutoff:\n",
    "#                     print(\"We out here\")\n",
    "#                     eig_index = i\n",
    "#                     break\n",
    "                    \n",
    "#             print(\"Eig index:\", eig_index)\n",
    "#             Vp = V[:eig_index+1]\n",
    "#             #print(Vp)\n",
    "#             Pp = np.dot(Vp,P) #No transpose because of weird shape mismatch P has shape (3888,...) and Vp has 1x3888\n",
    "            \n",
    "#             print(Vp.shape)\n",
    "#             print(Pp.shape)\n",
    "            \n",
    "            \n",
    "            Vp = np.zeros((1, 3888))\n",
    "            Pp = np.zeros((1, 1156))\n",
    "        \n",
    "            for i in range (0,3):\n",
    "                \n",
    "                #1. Style fusion\n",
    "                X = hallcoeff*hall+(1-hallcoeff)*hall\n",
    "                \n",
    "                #2. Patch Matching\n",
    "                print(\"Patch Matching\")\n",
    "                index = np.argwhere(np.array(patch_sizes) == current_patch)[0][0] #CAN'T LIST SAME PATCH SIZE TWICE!\n",
    "                \n",
    "                gap = gap_sizes[index]\n",
    "                \n",
    "                print(gap)\n",
    "                \n",
    "                rows = h*w*3\n",
    "                columns = (math.floor((h-current_patch)/gap)+1) * (math.floor((w-current_patch)/p_str)+1)\n",
    "                print(rows,columns)\n",
    "                \n",
    "                Rall = np.zeros( (rows, columns) )\n",
    "                z = np.zeros( (h*(current_patch**2), (math.floor((h-current_patch)/gap)+1) * (math.floor((w-current_patch)/p_str)+1)))\n",
    "        \n",
    "                for k in range (1, (h-current_patch+2), gap ): #DOUBLE CHECK THIS WHEN YOU GET HERE\n",
    "                    for j in range (1, (h-current_patch+2), gap ):\n",
    "                        R = np.zeros((h,w,3))\n",
    "                        R[i:i+current_patch-1, j:j+current_patch-1,:] = 1\n",
    "                        \n",
    "                        Rall[:,(math.ceil(i/gap)-1)*(math.floor( (w-current_patch)/gap )+ 1) + math.ceil(j/gap)]=R.flatten() #This line is sketchie AF\n",
    "                        ks, ls, zij, ang = nearest_n(R, X, current_patch, S, h, w, 3, Pp,Vp,p_str,mp,L,gap)\n",
    "                        temp = scp.misc.imrotate(reshape(zij,n,n,c),ang*90,'bilinear')\n",
    "                             \n",
    "                        z[:,(math.ceil(i/gap)-1)*(math.floor( (w-current_patch)/gap )+ 1) + ceil(j/gap)]=temp\n",
    "                \n",
    "                #3. Style Synthesis        \n",
    "                print(\"Robust Aggregation\")\n",
    "                Xtilde=irls(Rall,X,z)\n",
    "                             \n",
    "                #4. Content Fusion\n",
    "                print(\"Content Fusion\")\n",
    "                W = np.tile(Wcoeff*mask/max(mask),(3,1));\n",
    "                X_temp = np.matmul( W + np.ones(size(W)) , (Xtilde+ np.matmul(W,C))) #DOUBLE CHECK THIS #W is (3*Nc/L x 1)) \n",
    "                \n",
    "                one_temp = np.ones(X_temp.shape)\n",
    "                             \n",
    "                X_hat = np.divide(one_temp, X_temp)\n",
    "                             \n",
    "                             \n",
    "                #5. Color Transfer\n",
    "                print(\"Color Transfer\")\n",
    "                X = imhistmatch(reshape(X_hat, (h,w,3)), reshape(S,(h,w,3))) \n",
    "                \n",
    "                #6. Denoise\n",
    "                print(\"Denoise\")\n",
    "                #COME BACK TO THIS, might be in cv2 https://docs.opencv.org/3.0-beta/modules/ximgproc/doc/edge_aware_filters.html\n",
    "                #Might be in existing files\n",
    "        if (L>1):\n",
    "            X=resize(reshape(X, (h,w,3),L))\n",
    "    return (reshape(X,imsize,imsize,3))"
   ]
  },
  {
   "cell_type": "code",
   "execution_count": 10,
   "metadata": {
    "collapsed": true
   },
   "outputs": [],
   "source": [
    "#master routine, calls style transfer. \n",
    "def master_routine(pikachu,van_gogh):\n",
    "    max_resolution = 400 \n",
    "    #convert content and style to floats\n",
    "    content = cv2.normalize(pikachu.astype('float'), None, 0.0, 1.0, cv2.NORM_MINMAX)\n",
    "    style = cv2.normalize(van_gogh.astype('float'), None, 0.0, 1.0, cv2.NORM_MINMAX)\n",
    "    pikachu = pikachu.astype('uint8')\n",
    "    pikachu = color.rgb2gray(pikachu)\n",
    "    #crop content and style into max_resolution \n",
    "    #content = content[0:max_resolution-1,0:max_resolution-1]\n",
    "    #style = style[0:max_resolution-1,0:max_resolution-1]\n",
    "    first_iteration = style_transfer(content,style,\\\n",
    "                                     np.ones((max_resolution,max_resolution,3)),\\\n",
    "                                     np.ones((max_resolution,max_resolution)),\\\n",
    "                                     0, \\\n",
    "                                     0,\\\n",
    "                                     [36, 22], \\\n",
    "                                     [4, 2, 1], \\\n",
    "                                    max_resolution)\n",
    "    output = style_transfer(content, style, first_iteration,segment(pikachu,1.05),\\\n",
    "                            0.25, 1.5, [36, 22, 13], [4, 2, 1], max_resolution)\n",
    "    plt.imshow(output)\n",
    "    "
   ]
  },
  {
   "cell_type": "code",
   "execution_count": null,
   "metadata": {
    "collapsed": false,
    "scrolled": false
   },
   "outputs": [
    {
     "name": "stdout",
     "output_type": "stream",
     "text": [
      "Patch Matching\n",
      "28\n",
      "30000 51\n",
      "(3675, 3)\n",
      "[[ 0  1  0]\n",
      " [ 0  1  1]\n",
      " [ 0  1  2]\n",
      " ...\n",
      " [34 35  0]\n",
      " [34 35  1]\n",
      " [34 35  2]]\n",
      "RX\n",
      "(9695,)\n",
      "test\n",
      "test2\n"
     ]
    }
   ],
   "source": [
    "%%time\n",
    "master_routine(pikachu,van_gogh)"
   ]
  },
  {
   "cell_type": "markdown",
   "metadata": {
    "collapsed": true
   },
   "source": [
    "current_patch = 36\n",
    "h = 100\n",
    "w = 100\n",
    "k = 40\n",
    "j = 64\n",
    "i= 0\n",
    "p_str = 4"
   ]
  },
  {
   "cell_type": "markdown",
   "metadata": {
    "collapsed": false
   },
   "source": [
    "print((math.ceil(k/p_str)-1)  * (math.floor((w-current_patch)/p_str)+1)*4 +     (math.ceil(j/p_str)-1)*4 + i + 1 )"
   ]
  },
  {
   "cell_type": "markdown",
   "metadata": {
    "collapsed": true
   },
   "source": []
  },
  {
   "cell_type": "code",
   "execution_count": 15,
   "metadata": {
    "collapsed": false
   },
   "outputs": [],
   "source": [
    "X = np.array([1, 2, 3, 4, 5, 6])"
   ]
  },
  {
   "cell_type": "code",
   "execution_count": 17,
   "metadata": {
    "collapsed": false
   },
   "outputs": [],
   "source": [
    "R = np.array([0, 5, 5, 0, 0, 1])"
   ]
  },
  {
   "cell_type": "code",
   "execution_count": 21,
   "metadata": {
    "collapsed": false
   },
   "outputs": [],
   "source": [
    "temp = np.array(np.where(R!=0)[0])"
   ]
  },
  {
   "cell_type": "code",
   "execution_count": 22,
   "metadata": {
    "collapsed": false
   },
   "outputs": [
    {
     "name": "stdout",
     "output_type": "stream",
     "text": [
      "[1 2 5]\n"
     ]
    }
   ],
   "source": [
    "print(temp)"
   ]
  },
  {
   "cell_type": "code",
   "execution_count": 25,
   "metadata": {
    "collapsed": false
   },
   "outputs": [
    {
     "name": "stdout",
     "output_type": "stream",
     "text": [
      "[2 3 6]\n"
     ]
    }
   ],
   "source": [
    "print(X[temp])"
   ]
  },
  {
   "cell_type": "code",
   "execution_count": null,
   "metadata": {
    "collapsed": true
   },
   "outputs": [],
   "source": []
  }
 ],
 "metadata": {
  "anaconda-cloud": {},
  "kernelspec": {
   "display_name": "Python [Root]",
   "language": "python",
   "name": "Python [Root]"
  },
  "language_info": {
   "codemirror_mode": {
    "name": "ipython",
    "version": 3
   },
   "file_extension": ".py",
   "mimetype": "text/x-python",
   "name": "python",
   "nbconvert_exporter": "python",
   "pygments_lexer": "ipython3",
   "version": "3.5.2"
  }
 },
 "nbformat": 4,
 "nbformat_minor": 2
}
